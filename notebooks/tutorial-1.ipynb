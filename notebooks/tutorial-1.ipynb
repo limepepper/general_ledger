{
 "cells": [
  {
   "cell_type": "code",
   "execution_count": 2,
   "id": "89531977-4846-4c66-a1ab-2ddf493b28b5",
   "metadata": {},
   "outputs": [],
   "source": [
    "import notebooks.django_initializer\n",
    "from rich import inspect\n",
    "from django.contrib.auth import get_user_model\n",
    "from general_ledger.models import Payment, Book, ChartOfAccounts"
   ]
  },
  {
   "cell_type": "code",
   "execution_count": 3,
   "id": "ec685e60-a105-4dfe-bd1f-2bb66c493b33",
   "metadata": {},
   "outputs": [],
   "source": [
    "# get a user to own the objects. for simplicity lets use the admin\n",
    "owner = get_user_model().objects.get(username=\"admin\")"
   ]
  },
  {
   "cell_type": "markdown",
   "id": "868bf906-f524-47c5-a33e-696cb1f77d7f",
   "metadata": {},
   "source": [
    "## Create a book, with an owner, for the company. Disable VAT."
   ]
  },
  {
   "cell_type": "code",
   "execution_count": 4,
   "id": "583bc482-d904-40b5-8c13-a4249a03651c",
   "metadata": {},
   "outputs": [],
   "source": [
    "mycompany,_ = Book.objects.get_or_create(\n",
    "    owner=owner,\n",
    "    name=\"My Company Ltd\",\n",
    "    is_vat_registered=False, # default is True\n",
    "    # optionally set some infos that will be used to generate invoice details\n",
    "    business_address=\"14 The street, townsville, XX1 1YY, GB\",\n",
    "    business_email=\"someone@somewhere.com\",\n",
    "    )"
   ]
  },
  {
   "cell_type": "code",
   "execution_count": 5,
   "id": "624fcdd8-6170-48a3-b59e-6275f462a004",
   "metadata": {},
   "outputs": [],
   "source": [
    "# persist the company to the database, triggering field validation.\n",
    "mycompany.save()"
   ]
  },
  {
   "cell_type": "code",
   "execution_count": 6,
   "id": "dc06145c-4019-4560-8ac3-25917acb1116",
   "metadata": {},
   "outputs": [],
   "source": [
    "# create an empty Chart of Accounts linked to this book\n",
    "coa = ChartOfAccounts.objects.get_or_create(name=\"default coa\", book=mycompany)[0]"
   ]
  },
  {
   "cell_type": "code",
   "execution_count": 7,
   "id": "d87216c6-c60e-4eec-afff-e5f8320f19da",
   "metadata": {},
   "outputs": [],
   "source": [
    "# create a ledger to which we can record and post transactions\n",
    "ledger = Ledger.objects.get_or_create(name=\"general-ledger\", book=mycompany, coa=coa)[0]"
   ]
  },
  {
   "cell_type": "code",
   "execution_count": 8,
   "id": "dc341be4-9f93-4ca9-85b6-6c3b8447e50d",
   "metadata": {},
   "outputs": [
    {
     "data": {
      "text/html": [
       "<pre style=\"white-space:pre;overflow-x:auto;line-height:normal;font-family:Menlo,'DejaVu Sans Mono',consolas,'Courier New',monospace\"><span style=\"color: #000080; text-decoration-color: #000080\">╭──────────────────────── </span><span style=\"color: #000080; text-decoration-color: #000080; font-weight: bold\">&lt;</span><span style=\"color: #ff00ff; text-decoration-color: #ff00ff; font-weight: bold\">class</span><span style=\"color: #000000; text-decoration-color: #000000\"> </span><span style=\"color: #008000; text-decoration-color: #008000\">'general_ledger.models.ledger.Ledger'</span><span style=\"color: #000080; text-decoration-color: #000080; font-weight: bold\">&gt;</span><span style=\"color: #000080; text-decoration-color: #000080\"> ─────────────────────────╮</span>\n",
       "<span style=\"color: #000080; text-decoration-color: #000080\">│</span> <span style=\"color: #008080; text-decoration-color: #008080\">This class demonstrates various ways of linking in docstrings.</span>                                 <span style=\"color: #000080; text-decoration-color: #000080\">│</span>\n",
       "<span style=\"color: #000080; text-decoration-color: #000080\">│</span>                                                                                                <span style=\"color: #000080; text-decoration-color: #000080\">│</span>\n",
       "<span style=\"color: #000080; text-decoration-color: #000080\">│</span> <span style=\"color: #008000; text-decoration-color: #008000\">╭────────────────────────────────────────────────────────────────────────────────────────────╮</span> <span style=\"color: #000080; text-decoration-color: #000080\">│</span>\n",
       "<span style=\"color: #000080; text-decoration-color: #000080\">│</span> <span style=\"color: #008000; text-decoration-color: #008000\">│</span> <span style=\"font-weight: bold\">&lt;</span><span style=\"color: #ff00ff; text-decoration-color: #ff00ff; font-weight: bold\">Ledger:</span><span style=\"color: #000000; text-decoration-color: #000000\"> general-ledger</span><span style=\"font-weight: bold\">&gt;</span>                                                                   <span style=\"color: #008000; text-decoration-color: #008000\">│</span> <span style=\"color: #000080; text-decoration-color: #000080\">│</span>\n",
       "<span style=\"color: #000080; text-decoration-color: #000080\">│</span> <span style=\"color: #008000; text-decoration-color: #008000\">╰────────────────────────────────────────────────────────────────────────────────────────────╯</span> <span style=\"color: #000080; text-decoration-color: #000080\">│</span>\n",
       "<span style=\"color: #000080; text-decoration-color: #000080\">│</span>                                                                                                <span style=\"color: #000080; text-decoration-color: #000080\">│</span>\n",
       "<span style=\"color: #000080; text-decoration-color: #000080\">│</span>        <span style=\"color: #808000; text-decoration-color: #808000; font-style: italic\">book</span> = <span style=\"font-weight: bold\">&lt;</span><span style=\"color: #ff00ff; text-decoration-color: #ff00ff; font-weight: bold\">Book:</span><span style=\"color: #000000; text-decoration-color: #000000\"> My Company Ltd</span><span style=\"font-weight: bold\">&gt;</span>                                                           <span style=\"color: #000080; text-decoration-color: #000080\">│</span>\n",
       "<span style=\"color: #000080; text-decoration-color: #000080\">│</span>     <span style=\"color: #808000; text-decoration-color: #808000; font-style: italic\">book_id</span> = <span style=\"color: #800080; text-decoration-color: #800080; font-weight: bold\">UUID</span><span style=\"font-weight: bold\">(</span><span style=\"color: #008000; text-decoration-color: #008000\">'2c54f25d-c8e6-48da-9b0b-8691ba46c59b'</span><span style=\"font-weight: bold\">)</span>                                     <span style=\"color: #000080; text-decoration-color: #000080\">│</span>\n",
       "<span style=\"color: #000080; text-decoration-color: #000080\">│</span>         <span style=\"color: #808000; text-decoration-color: #808000; font-style: italic\">coa</span> = <span style=\"font-weight: bold\">&lt;</span><span style=\"color: #ff00ff; text-decoration-color: #ff00ff; font-weight: bold\">ChartOfAccounts:</span><span style=\"color: #000000; text-decoration-color: #000000\"> default coa My Company Ltd</span><span style=\"font-weight: bold\">&gt;</span>                                    <span style=\"color: #000080; text-decoration-color: #000080\">│</span>\n",
       "<span style=\"color: #000080; text-decoration-color: #000080\">│</span>      <span style=\"color: #808000; text-decoration-color: #808000; font-style: italic\">coa_id</span> = <span style=\"color: #800080; text-decoration-color: #800080; font-weight: bold\">UUID</span><span style=\"font-weight: bold\">(</span><span style=\"color: #008000; text-decoration-color: #008000\">'e5d6375c-cc88-4a1f-a081-4921904b5c95'</span><span style=\"font-weight: bold\">)</span>                                     <span style=\"color: #000080; text-decoration-color: #000080\">│</span>\n",
       "<span style=\"color: #000080; text-decoration-color: #000080\">│</span>  <span style=\"color: #808000; text-decoration-color: #808000; font-style: italic\">created_at</span> = <span style=\"color: #800080; text-decoration-color: #800080; font-weight: bold\">datetime.datetime</span><span style=\"font-weight: bold\">(</span><span style=\"color: #008080; text-decoration-color: #008080; font-weight: bold\">2024</span>, <span style=\"color: #008080; text-decoration-color: #008080; font-weight: bold\">10</span>, <span style=\"color: #008080; text-decoration-color: #008080; font-weight: bold\">9</span>, <span style=\"color: #008080; text-decoration-color: #008080; font-weight: bold\">22</span>, <span style=\"color: #008080; text-decoration-color: #008080; font-weight: bold\">58</span>, <span style=\"color: #008080; text-decoration-color: #008080; font-weight: bold\">39</span>, <span style=\"color: #008080; text-decoration-color: #008080; font-weight: bold\">463105</span>, <span style=\"color: #808000; text-decoration-color: #808000\">tzinfo</span>=<span style=\"color: #800080; text-decoration-color: #800080\">datetime</span>.timezone.utc<span style=\"font-weight: bold\">)</span> <span style=\"color: #000080; text-decoration-color: #000080\">│</span>\n",
       "<span style=\"color: #000080; text-decoration-color: #000080\">│</span> <span style=\"color: #808000; text-decoration-color: #808000; font-style: italic\">description</span> = <span style=\"color: #800080; text-decoration-color: #800080; font-style: italic\">None</span>                                                                             <span style=\"color: #000080; text-decoration-color: #000080\">│</span>\n",
       "<span style=\"color: #000080; text-decoration-color: #000080\">│</span>          <span style=\"color: #808000; text-decoration-color: #808000; font-style: italic\">id</span> = <span style=\"color: #800080; text-decoration-color: #800080; font-weight: bold\">UUID</span><span style=\"font-weight: bold\">(</span><span style=\"color: #008000; text-decoration-color: #008000\">'3e81f74f-cc7e-4826-8492-aa2d4b6ab57e'</span><span style=\"font-weight: bold\">)</span>                                     <span style=\"color: #000080; text-decoration-color: #000080\">│</span>\n",
       "<span style=\"color: #000080; text-decoration-color: #000080\">│</span>   <span style=\"color: #808000; text-decoration-color: #808000; font-style: italic\">is_hidden</span> = <span style=\"color: #ff0000; text-decoration-color: #ff0000; font-style: italic\">False</span>                                                                            <span style=\"color: #000080; text-decoration-color: #000080\">│</span>\n",
       "<span style=\"color: #000080; text-decoration-color: #000080\">│</span>   <span style=\"color: #808000; text-decoration-color: #808000; font-style: italic\">is_locked</span> = <span style=\"color: #ff0000; text-decoration-color: #ff0000; font-style: italic\">False</span>                                                                            <span style=\"color: #000080; text-decoration-color: #000080\">│</span>\n",
       "<span style=\"color: #000080; text-decoration-color: #000080\">│</span>   <span style=\"color: #808000; text-decoration-color: #808000; font-style: italic\">is_posted</span> = <span style=\"color: #ff0000; text-decoration-color: #ff0000; font-style: italic\">False</span>                                                                            <span style=\"color: #000080; text-decoration-color: #000080\">│</span>\n",
       "<span style=\"color: #000080; text-decoration-color: #000080\">│</span>   <span style=\"color: #808000; text-decoration-color: #808000; font-style: italic\">is_system</span> = <span style=\"color: #ff0000; text-decoration-color: #ff0000; font-style: italic\">False</span>                                                                            <span style=\"color: #000080; text-decoration-color: #000080\">│</span>\n",
       "<span style=\"color: #000080; text-decoration-color: #000080\">│</span>      <span style=\"color: #808000; text-decoration-color: #808000; font-style: italic\">logger</span> = <span style=\"font-weight: bold\">&lt;</span><span style=\"color: #ff00ff; text-decoration-color: #ff00ff; font-weight: bold\">Logger</span><span style=\"color: #000000; text-decoration-color: #000000\"> general_ledger.models.mixins.uuid </span><span style=\"color: #000000; text-decoration-color: #000000; font-weight: bold\">(</span><span style=\"color: #000000; text-decoration-color: #000000\">WARNING</span><span style=\"color: #000000; text-decoration-color: #000000; font-weight: bold\">)</span><span style=\"font-weight: bold\">&gt;</span>                             <span style=\"color: #000080; text-decoration-color: #000080\">│</span>\n",
       "<span style=\"color: #000080; text-decoration-color: #000080\">│</span>        <span style=\"color: #808000; text-decoration-color: #808000; font-style: italic\">name</span> = <span style=\"color: #008000; text-decoration-color: #008000\">'general-ledger'</span>                                                                 <span style=\"color: #000080; text-decoration-color: #000080\">│</span>\n",
       "<span style=\"color: #000080; text-decoration-color: #000080\">│</span>     <span style=\"color: #800000; text-decoration-color: #800000; font-weight: bold; font-style: italic\">objects</span><span style=\"color: #800000; text-decoration-color: #800000; font-weight: bold\"> =</span> <span style=\"color: #800080; text-decoration-color: #800080; font-weight: bold\">AttributeError</span><span style=\"font-weight: bold\">(</span><span style=\"color: #008000; text-decoration-color: #008000\">\"Manager isn't accessible via Ledger instances\"</span><span style=\"font-weight: bold\">)</span>                  <span style=\"color: #000080; text-decoration-color: #000080\">│</span>\n",
       "<span style=\"color: #000080; text-decoration-color: #000080\">│</span>          <span style=\"color: #808000; text-decoration-color: #808000; font-style: italic\">pk</span> = <span style=\"color: #800080; text-decoration-color: #800080; font-weight: bold\">UUID</span><span style=\"font-weight: bold\">(</span><span style=\"color: #008000; text-decoration-color: #008000\">'3e81f74f-cc7e-4826-8492-aa2d4b6ab57e'</span><span style=\"font-weight: bold\">)</span>                                     <span style=\"color: #000080; text-decoration-color: #000080\">│</span>\n",
       "<span style=\"color: #000080; text-decoration-color: #000080\">│</span>        <span style=\"color: #808000; text-decoration-color: #808000; font-style: italic\">slug</span> = <span style=\"color: #008000; text-decoration-color: #008000\">'general-ledger-1'</span>                                                               <span style=\"color: #000080; text-decoration-color: #000080\">│</span>\n",
       "<span style=\"color: #000080; text-decoration-color: #000080\">│</span>  <span style=\"color: #808000; text-decoration-color: #808000; font-style: italic\">updated_at</span> = <span style=\"color: #800080; text-decoration-color: #800080; font-weight: bold\">datetime.datetime</span><span style=\"font-weight: bold\">(</span><span style=\"color: #008080; text-decoration-color: #008080; font-weight: bold\">2024</span>, <span style=\"color: #008080; text-decoration-color: #008080; font-weight: bold\">10</span>, <span style=\"color: #008080; text-decoration-color: #008080; font-weight: bold\">9</span>, <span style=\"color: #008080; text-decoration-color: #008080; font-weight: bold\">22</span>, <span style=\"color: #008080; text-decoration-color: #008080; font-weight: bold\">58</span>, <span style=\"color: #008080; text-decoration-color: #008080; font-weight: bold\">39</span>, <span style=\"color: #008080; text-decoration-color: #008080; font-weight: bold\">463126</span>, <span style=\"color: #808000; text-decoration-color: #808000\">tzinfo</span>=<span style=\"color: #800080; text-decoration-color: #800080\">datetime</span>.timezone.utc<span style=\"font-weight: bold\">)</span> <span style=\"color: #000080; text-decoration-color: #000080\">│</span>\n",
       "<span style=\"color: #000080; text-decoration-color: #000080\">╰────────────────────────────────────────────────────────────────────────────────────────────────╯</span>\n",
       "</pre>\n"
      ],
      "text/plain": [
       "\u001b[34m╭─\u001b[0m\u001b[34m───────────────────────\u001b[0m\u001b[34m \u001b[0m\u001b[1;34m<\u001b[0m\u001b[1;95mclass\u001b[0m\u001b[39m \u001b[0m\u001b[32m'general_ledger.models.ledger.Ledger'\u001b[0m\u001b[1;34m>\u001b[0m\u001b[34m \u001b[0m\u001b[34m────────────────────────\u001b[0m\u001b[34m─╮\u001b[0m\n",
       "\u001b[34m│\u001b[0m \u001b[36mThis class demonstrates various ways of linking in docstrings.\u001b[0m                                 \u001b[34m│\u001b[0m\n",
       "\u001b[34m│\u001b[0m                                                                                                \u001b[34m│\u001b[0m\n",
       "\u001b[34m│\u001b[0m \u001b[32m╭────────────────────────────────────────────────────────────────────────────────────────────╮\u001b[0m \u001b[34m│\u001b[0m\n",
       "\u001b[34m│\u001b[0m \u001b[32m│\u001b[0m \u001b[1m<\u001b[0m\u001b[1;95mLedger:\u001b[0m\u001b[39m general-ledger\u001b[0m\u001b[1m>\u001b[0m                                                                   \u001b[32m│\u001b[0m \u001b[34m│\u001b[0m\n",
       "\u001b[34m│\u001b[0m \u001b[32m╰────────────────────────────────────────────────────────────────────────────────────────────╯\u001b[0m \u001b[34m│\u001b[0m\n",
       "\u001b[34m│\u001b[0m                                                                                                \u001b[34m│\u001b[0m\n",
       "\u001b[34m│\u001b[0m        \u001b[3;33mbook\u001b[0m = \u001b[1m<\u001b[0m\u001b[1;95mBook:\u001b[0m\u001b[39m My Company Ltd\u001b[0m\u001b[1m>\u001b[0m                                                           \u001b[34m│\u001b[0m\n",
       "\u001b[34m│\u001b[0m     \u001b[3;33mbook_id\u001b[0m = \u001b[1;35mUUID\u001b[0m\u001b[1m(\u001b[0m\u001b[32m'2c54f25d-c8e6-48da-9b0b-8691ba46c59b'\u001b[0m\u001b[1m)\u001b[0m                                     \u001b[34m│\u001b[0m\n",
       "\u001b[34m│\u001b[0m         \u001b[3;33mcoa\u001b[0m = \u001b[1m<\u001b[0m\u001b[1;95mChartOfAccounts:\u001b[0m\u001b[39m default coa My Company Ltd\u001b[0m\u001b[1m>\u001b[0m                                    \u001b[34m│\u001b[0m\n",
       "\u001b[34m│\u001b[0m      \u001b[3;33mcoa_id\u001b[0m = \u001b[1;35mUUID\u001b[0m\u001b[1m(\u001b[0m\u001b[32m'e5d6375c-cc88-4a1f-a081-4921904b5c95'\u001b[0m\u001b[1m)\u001b[0m                                     \u001b[34m│\u001b[0m\n",
       "\u001b[34m│\u001b[0m  \u001b[3;33mcreated_at\u001b[0m = \u001b[1;35mdatetime.datetime\u001b[0m\u001b[1m(\u001b[0m\u001b[1;36m2024\u001b[0m, \u001b[1;36m10\u001b[0m, \u001b[1;36m9\u001b[0m, \u001b[1;36m22\u001b[0m, \u001b[1;36m58\u001b[0m, \u001b[1;36m39\u001b[0m, \u001b[1;36m463105\u001b[0m, \u001b[33mtzinfo\u001b[0m=\u001b[35mdatetime\u001b[0m.timezone.utc\u001b[1m)\u001b[0m \u001b[34m│\u001b[0m\n",
       "\u001b[34m│\u001b[0m \u001b[3;33mdescription\u001b[0m = \u001b[3;35mNone\u001b[0m                                                                             \u001b[34m│\u001b[0m\n",
       "\u001b[34m│\u001b[0m          \u001b[3;33mid\u001b[0m = \u001b[1;35mUUID\u001b[0m\u001b[1m(\u001b[0m\u001b[32m'3e81f74f-cc7e-4826-8492-aa2d4b6ab57e'\u001b[0m\u001b[1m)\u001b[0m                                     \u001b[34m│\u001b[0m\n",
       "\u001b[34m│\u001b[0m   \u001b[3;33mis_hidden\u001b[0m = \u001b[3;91mFalse\u001b[0m                                                                            \u001b[34m│\u001b[0m\n",
       "\u001b[34m│\u001b[0m   \u001b[3;33mis_locked\u001b[0m = \u001b[3;91mFalse\u001b[0m                                                                            \u001b[34m│\u001b[0m\n",
       "\u001b[34m│\u001b[0m   \u001b[3;33mis_posted\u001b[0m = \u001b[3;91mFalse\u001b[0m                                                                            \u001b[34m│\u001b[0m\n",
       "\u001b[34m│\u001b[0m   \u001b[3;33mis_system\u001b[0m = \u001b[3;91mFalse\u001b[0m                                                                            \u001b[34m│\u001b[0m\n",
       "\u001b[34m│\u001b[0m      \u001b[3;33mlogger\u001b[0m = \u001b[1m<\u001b[0m\u001b[1;95mLogger\u001b[0m\u001b[39m general_ledger.models.mixins.uuid \u001b[0m\u001b[1;39m(\u001b[0m\u001b[39mWARNING\u001b[0m\u001b[1;39m)\u001b[0m\u001b[1m>\u001b[0m                             \u001b[34m│\u001b[0m\n",
       "\u001b[34m│\u001b[0m        \u001b[3;33mname\u001b[0m = \u001b[32m'general-ledger'\u001b[0m                                                                 \u001b[34m│\u001b[0m\n",
       "\u001b[34m│\u001b[0m     \u001b[1;3;31mobjects\u001b[0m\u001b[1;31m =\u001b[0m \u001b[1;35mAttributeError\u001b[0m\u001b[1m(\u001b[0m\u001b[32m\"Manager isn't accessible via Ledger instances\"\u001b[0m\u001b[1m)\u001b[0m                  \u001b[34m│\u001b[0m\n",
       "\u001b[34m│\u001b[0m          \u001b[3;33mpk\u001b[0m = \u001b[1;35mUUID\u001b[0m\u001b[1m(\u001b[0m\u001b[32m'3e81f74f-cc7e-4826-8492-aa2d4b6ab57e'\u001b[0m\u001b[1m)\u001b[0m                                     \u001b[34m│\u001b[0m\n",
       "\u001b[34m│\u001b[0m        \u001b[3;33mslug\u001b[0m = \u001b[32m'general-ledger-1'\u001b[0m                                                               \u001b[34m│\u001b[0m\n",
       "\u001b[34m│\u001b[0m  \u001b[3;33mupdated_at\u001b[0m = \u001b[1;35mdatetime.datetime\u001b[0m\u001b[1m(\u001b[0m\u001b[1;36m2024\u001b[0m, \u001b[1;36m10\u001b[0m, \u001b[1;36m9\u001b[0m, \u001b[1;36m22\u001b[0m, \u001b[1;36m58\u001b[0m, \u001b[1;36m39\u001b[0m, \u001b[1;36m463126\u001b[0m, \u001b[33mtzinfo\u001b[0m=\u001b[35mdatetime\u001b[0m.timezone.utc\u001b[1m)\u001b[0m \u001b[34m│\u001b[0m\n",
       "\u001b[34m╰────────────────────────────────────────────────────────────────────────────────────────────────╯\u001b[0m\n"
      ]
     },
     "metadata": {},
     "output_type": "display_data"
    }
   ],
   "source": [
    "inspect(ledger)"
   ]
  },
  {
   "cell_type": "code",
   "execution_count": null,
   "id": "535000d8-4759-4ae6-be73-304e2a59740a",
   "metadata": {},
   "outputs": [],
   "source": []
  }
 ],
 "metadata": {
  "kernelspec": {
   "display_name": "Django Shell-Plus",
   "language": "python",
   "name": "django_extensions"
  },
  "language_info": {
   "codemirror_mode": {
    "name": "ipython",
    "version": 3
   },
   "file_extension": ".py",
   "mimetype": "text/x-python",
   "name": "python",
   "nbconvert_exporter": "python",
   "pygments_lexer": "ipython3",
   "version": "3.12.6"
  }
 },
 "nbformat": 4,
 "nbformat_minor": 5
}
