{
 "cells": [
  {
   "cell_type": "code",
   "id": "81f98f4d-ddf7-4c1d-b2e3-9222f3b48d07",
   "metadata": {
    "ExecuteTime": {
     "end_time": "2024-09-29T11:47:29.451551Z",
     "start_time": "2024-09-29T11:47:29.284288Z"
    }
   },
   "source": [
    "import os\n",
    "print(os.pwd())"
   ],
   "outputs": [
    {
     "ename": "AttributeError",
     "evalue": "module 'os' has no attribute 'pwd'",
     "output_type": "error",
     "traceback": [
      "\u001B[0;31m---------------------------------------------------------------------------\u001B[0m",
      "\u001B[0;31mAttributeError\u001B[0m                            Traceback (most recent call last)",
      "Cell \u001B[0;32mIn[1], line 2\u001B[0m\n\u001B[1;32m      1\u001B[0m \u001B[38;5;28;01mimport\u001B[39;00m \u001B[38;5;21;01mos\u001B[39;00m\n\u001B[0;32m----> 2\u001B[0m \u001B[38;5;28mprint\u001B[39m(\u001B[43mos\u001B[49m\u001B[38;5;241;43m.\u001B[39;49m\u001B[43mpwd\u001B[49m())\n",
      "\u001B[0;31mAttributeError\u001B[0m: module 'os' has no attribute 'pwd'"
     ]
    }
   ],
   "execution_count": 1
  },
  {
   "cell_type": "code",
   "execution_count": 3,
   "id": "initial_id",
   "metadata": {
    "ExecuteTime": {
     "end_time": "2024-09-26T03:02:02.127628Z",
     "start_time": "2024-09-26T03:02:02.033297Z"
    }
   },
   "outputs": [
    {
     "ename": "AppRegistryNotReady",
     "evalue": "Apps aren't loaded yet.",
     "output_type": "error",
     "traceback": [
      "\u001B[0;31m---------------------------------------------------------------------------\u001B[0m",
      "\u001B[0;31mAppRegistryNotReady\u001B[0m                       Traceback (most recent call last)",
      "Cell \u001B[0;32mIn[3], line 3\u001B[0m\n\u001B[1;32m      1\u001B[0m \u001B[38;5;28;01mimport\u001B[39;00m \u001B[38;5;21;01mos\u001B[39;00m\n\u001B[1;32m      2\u001B[0m os\u001B[38;5;241m.\u001B[39menviron[\u001B[38;5;124m\"\u001B[39m\u001B[38;5;124mDJANGO_ALLOW_ASYNC_UNSAFE\u001B[39m\u001B[38;5;124m\"\u001B[39m] \u001B[38;5;241m=\u001B[39m \u001B[38;5;124m\"\u001B[39m\u001B[38;5;124mtrue\u001B[39m\u001B[38;5;124m\"\u001B[39m\n\u001B[0;32m----> 3\u001B[0m \u001B[38;5;28;01mfrom\u001B[39;00m \u001B[38;5;21;01mgeneral_ledger\u001B[39;00m\u001B[38;5;21;01m.\u001B[39;00m\u001B[38;5;21;01mmodels\u001B[39;00m\u001B[38;5;21;01m.\u001B[39;00m\u001B[38;5;21;01minvoice\u001B[39;00m \u001B[38;5;28;01mimport\u001B[39;00m Invoice\n\u001B[1;32m      4\u001B[0m \u001B[38;5;28;01mfrom\u001B[39;00m \u001B[38;5;21;01mrich\u001B[39;00m \u001B[38;5;28;01mimport\u001B[39;00m inspect\n\u001B[1;32m      5\u001B[0m \u001B[38;5;28;01mfrom\u001B[39;00m \u001B[38;5;21;01mdecimal\u001B[39;00m \u001B[38;5;28;01mimport\u001B[39;00m Decimal\n",
      "File \u001B[0;32m~/Sync/projects/python/general_ledger/general_ledger/models/__init__.py:3\u001B[0m\n\u001B[1;32m      1\u001B[0m \u001B[38;5;66;03m# @formatter:off\u001B[39;00m\n\u001B[1;32m      2\u001B[0m \u001B[38;5;28;01mfrom\u001B[39;00m \u001B[38;5;21;01m.\u001B[39;00m\u001B[38;5;21;01mdirection\u001B[39;00m \u001B[38;5;28;01mimport\u001B[39;00m Direction\n\u001B[0;32m----> 3\u001B[0m \u001B[38;5;28;01mfrom\u001B[39;00m \u001B[38;5;21;01m.\u001B[39;00m\u001B[38;5;21;01mtax_type\u001B[39;00m \u001B[38;5;28;01mimport\u001B[39;00m TaxType\n\u001B[1;32m      4\u001B[0m \u001B[38;5;28;01mfrom\u001B[39;00m \u001B[38;5;21;01m.\u001B[39;00m\u001B[38;5;21;01mtax_rate\u001B[39;00m \u001B[38;5;28;01mimport\u001B[39;00m TaxRate\n\u001B[1;32m      5\u001B[0m \u001B[38;5;28;01mfrom\u001B[39;00m \u001B[38;5;21;01m.\u001B[39;00m\u001B[38;5;21;01mcoa\u001B[39;00m \u001B[38;5;28;01mimport\u001B[39;00m ChartOfAccounts\n",
      "File \u001B[0;32m~/Sync/projects/python/general_ledger/general_ledger/models/tax_type.py:5\u001B[0m\n\u001B[1;32m      1\u001B[0m \u001B[38;5;28;01mimport\u001B[39;00m \u001B[38;5;21;01mlogging\u001B[39;00m\n\u001B[1;32m      3\u001B[0m \u001B[38;5;28;01mfrom\u001B[39;00m \u001B[38;5;21;01mdjango\u001B[39;00m\u001B[38;5;21;01m.\u001B[39;00m\u001B[38;5;21;01mdb\u001B[39;00m \u001B[38;5;28;01mimport\u001B[39;00m models\n\u001B[0;32m----> 5\u001B[0m \u001B[38;5;28;01mfrom\u001B[39;00m \u001B[38;5;21;01m.\u001B[39;00m\u001B[38;5;21;01mmixins\u001B[39;00m \u001B[38;5;28;01mimport\u001B[39;00m (\n\u001B[1;32m      6\u001B[0m     UuidMixin,\n\u001B[1;32m      7\u001B[0m     CreatedUpdatedMixin,\n\u001B[1;32m      8\u001B[0m     SlugMixin,\n\u001B[1;32m      9\u001B[0m )\n\u001B[1;32m     12\u001B[0m \u001B[38;5;28;01mclass\u001B[39;00m \u001B[38;5;21;01mTaxType\u001B[39;00m(\n\u001B[1;32m     13\u001B[0m     UuidMixin,\n\u001B[1;32m     14\u001B[0m     CreatedUpdatedMixin,\n\u001B[1;32m     15\u001B[0m     SlugMixin,\n\u001B[1;32m     16\u001B[0m ):\n\u001B[1;32m     17\u001B[0m \u001B[38;5;250m    \u001B[39m\u001B[38;5;124;03m\"\"\"\u001B[39;00m\n\u001B[1;32m     18\u001B[0m \u001B[38;5;124;03m    It is probably the case the tax type needs some logic\u001B[39;00m\n\u001B[1;32m     19\u001B[0m \u001B[38;5;124;03m    associated with it. For example, some sort of calcualted based\u001B[39;00m\n\u001B[1;32m     20\u001B[0m \u001B[38;5;124;03m    on region or type of product.\u001B[39;00m\n\u001B[1;32m     21\u001B[0m \u001B[38;5;124;03m    \"\"\"\u001B[39;00m\n",
      "File \u001B[0;32m~/Sync/projects/python/general_ledger/general_ledger/models/mixins/__init__.py:1\u001B[0m\n\u001B[0;32m----> 1\u001B[0m \u001B[38;5;28;01mfrom\u001B[39;00m \u001B[38;5;21;01m.\u001B[39;00m\u001B[38;5;21;01mslug\u001B[39;00m \u001B[38;5;28;01mimport\u001B[39;00m SlugMixin\n\u001B[1;32m      2\u001B[0m \u001B[38;5;28;01mfrom\u001B[39;00m \u001B[38;5;21;01m.\u001B[39;00m\u001B[38;5;21;01muuid\u001B[39;00m \u001B[38;5;28;01mimport\u001B[39;00m UuidMixin\n\u001B[1;32m      3\u001B[0m \u001B[38;5;28;01mfrom\u001B[39;00m \u001B[38;5;21;01m.\u001B[39;00m\u001B[38;5;21;01mcreated_updated\u001B[39;00m \u001B[38;5;28;01mimport\u001B[39;00m CreatedUpdatedMixin\n",
      "File \u001B[0;32m~/Sync/projects/python/general_ledger/general_ledger/models/mixins/slug.py:37\u001B[0m\n\u001B[1;32m     27\u001B[0m         suffix \u001B[38;5;241m+\u001B[39m\u001B[38;5;241m=\u001B[39m \u001B[38;5;241m1\u001B[39m\n\u001B[1;32m     30\u001B[0m \u001B[38;5;124;03m\"\"\"\u001B[39;00m\n\u001B[1;32m     31\u001B[0m \u001B[38;5;124;03mhttps://stackoverflow.com/a/1490624/329931\u001B[39;00m\n\u001B[1;32m     32\u001B[0m \u001B[38;5;124;03mabove function is not my code, but i don't remember exactly where it comes from\u001B[39;00m\n\u001B[1;32m     33\u001B[0m \u001B[38;5;124;03myou can find many snippets with such solutions searching for 'unique slug' and so\u001B[39;00m\n\u001B[1;32m     34\u001B[0m \u001B[38;5;124;03m\"\"\"\u001B[39;00m\n\u001B[0;32m---> 37\u001B[0m \u001B[38;5;28;43;01mclass\u001B[39;49;00m\u001B[43m \u001B[49m\u001B[38;5;21;43;01mSlugMixin\u001B[39;49;00m\u001B[43m(\u001B[49m\u001B[43mmodels\u001B[49m\u001B[38;5;241;43m.\u001B[39;49m\u001B[43mModel\u001B[49m\u001B[43m)\u001B[49m\u001B[43m:\u001B[49m\n\u001B[1;32m     38\u001B[0m \u001B[38;5;250;43m    \u001B[39;49m\u001B[38;5;124;43;03m\"\"\"\u001B[39;49;00m\n\u001B[1;32m     39\u001B[0m \u001B[38;5;124;43;03m    An abstract base class model that provides a slug field.\u001B[39;49;00m\n\u001B[1;32m     40\u001B[0m \u001B[38;5;124;43;03m    \"\"\"\u001B[39;49;00m\n\u001B[1;32m     42\u001B[0m \u001B[43m    \u001B[49m\u001B[38;5;28;43;01mclass\u001B[39;49;00m\u001B[43m \u001B[49m\u001B[38;5;21;43;01mMeta\u001B[39;49;00m\u001B[43m:\u001B[49m\n",
      "File \u001B[0;32m~/Sync/projects/python/general_ledger/venv/lib/python3.12/site-packages/django/db/models/base.py:129\u001B[0m, in \u001B[0;36mModelBase.__new__\u001B[0;34m(cls, name, bases, attrs, **kwargs)\u001B[0m\n\u001B[1;32m    126\u001B[0m app_label \u001B[38;5;241m=\u001B[39m \u001B[38;5;28;01mNone\u001B[39;00m\n\u001B[1;32m    128\u001B[0m \u001B[38;5;66;03m# Look for an application configuration to attach the model to.\u001B[39;00m\n\u001B[0;32m--> 129\u001B[0m app_config \u001B[38;5;241m=\u001B[39m \u001B[43mapps\u001B[49m\u001B[38;5;241;43m.\u001B[39;49m\u001B[43mget_containing_app_config\u001B[49m\u001B[43m(\u001B[49m\u001B[43mmodule\u001B[49m\u001B[43m)\u001B[49m\n\u001B[1;32m    131\u001B[0m \u001B[38;5;28;01mif\u001B[39;00m \u001B[38;5;28mgetattr\u001B[39m(meta, \u001B[38;5;124m\"\u001B[39m\u001B[38;5;124mapp_label\u001B[39m\u001B[38;5;124m\"\u001B[39m, \u001B[38;5;28;01mNone\u001B[39;00m) \u001B[38;5;129;01mis\u001B[39;00m \u001B[38;5;28;01mNone\u001B[39;00m:\n\u001B[1;32m    132\u001B[0m     \u001B[38;5;28;01mif\u001B[39;00m app_config \u001B[38;5;129;01mis\u001B[39;00m \u001B[38;5;28;01mNone\u001B[39;00m:\n",
      "File \u001B[0;32m~/Sync/projects/python/general_ledger/venv/lib/python3.12/site-packages/django/apps/registry.py:260\u001B[0m, in \u001B[0;36mApps.get_containing_app_config\u001B[0;34m(self, object_name)\u001B[0m\n\u001B[1;32m    251\u001B[0m \u001B[38;5;28;01mdef\u001B[39;00m \u001B[38;5;21mget_containing_app_config\u001B[39m(\u001B[38;5;28mself\u001B[39m, object_name):\n\u001B[1;32m    252\u001B[0m \u001B[38;5;250m    \u001B[39m\u001B[38;5;124;03m\"\"\"\u001B[39;00m\n\u001B[1;32m    253\u001B[0m \u001B[38;5;124;03m    Look for an app config containing a given object.\u001B[39;00m\n\u001B[1;32m    254\u001B[0m \n\u001B[0;32m   (...)\u001B[0m\n\u001B[1;32m    258\u001B[0m \u001B[38;5;124;03m    Return None if the object isn't in any registered app config.\u001B[39;00m\n\u001B[1;32m    259\u001B[0m \u001B[38;5;124;03m    \"\"\"\u001B[39;00m\n\u001B[0;32m--> 260\u001B[0m     \u001B[38;5;28;43mself\u001B[39;49m\u001B[38;5;241;43m.\u001B[39;49m\u001B[43mcheck_apps_ready\u001B[49m\u001B[43m(\u001B[49m\u001B[43m)\u001B[49m\n\u001B[1;32m    261\u001B[0m     candidates \u001B[38;5;241m=\u001B[39m []\n\u001B[1;32m    262\u001B[0m     \u001B[38;5;28;01mfor\u001B[39;00m app_config \u001B[38;5;129;01min\u001B[39;00m \u001B[38;5;28mself\u001B[39m\u001B[38;5;241m.\u001B[39mapp_configs\u001B[38;5;241m.\u001B[39mvalues():\n",
      "File \u001B[0;32m~/Sync/projects/python/general_ledger/venv/lib/python3.12/site-packages/django/apps/registry.py:138\u001B[0m, in \u001B[0;36mApps.check_apps_ready\u001B[0;34m(self)\u001B[0m\n\u001B[1;32m    134\u001B[0m \u001B[38;5;66;03m# If \"not ready\" is due to unconfigured settings, accessing\u001B[39;00m\n\u001B[1;32m    135\u001B[0m \u001B[38;5;66;03m# INSTALLED_APPS raises a more helpful ImproperlyConfigured\u001B[39;00m\n\u001B[1;32m    136\u001B[0m \u001B[38;5;66;03m# exception.\u001B[39;00m\n\u001B[1;32m    137\u001B[0m settings\u001B[38;5;241m.\u001B[39mINSTALLED_APPS\n\u001B[0;32m--> 138\u001B[0m \u001B[38;5;28;01mraise\u001B[39;00m AppRegistryNotReady(\u001B[38;5;124m\"\u001B[39m\u001B[38;5;124mApps aren\u001B[39m\u001B[38;5;124m'\u001B[39m\u001B[38;5;124mt loaded yet.\u001B[39m\u001B[38;5;124m\"\u001B[39m)\n",
      "\u001B[0;31mAppRegistryNotReady\u001B[0m: Apps aren't loaded yet."
     ]
    }
   ],
   "source": [
    "import os\n",
    "os.environ[\"DJANGO_ALLOW_ASYNC_UNSAFE\"] = \"true\"\n",
    "from general_ledger.models.invoice import Invoice\n",
    "from rich import inspect\n",
    "from decimal import Decimal\n",
    "from general_ledger.models.tax_inclusive import TaxInclusive\n",
    "from general_ledger.factories import BookFactory, ContactFactory"
   ]
  },
  {
   "cell_type": "code",
   "execution_count": 2,
   "id": "69cb27ab-4a8c-448c-9c9d-c57ffb542a5d",
   "metadata": {
    "ExecuteTime": {
     "end_time": "2024-09-26T02:59:29.629014Z",
     "start_time": "2024-09-26T02:59:29.337806Z"
    }
   },
   "outputs": [
    {
     "ename": "NameError",
     "evalue": "name 'BookFactory' is not defined",
     "output_type": "error",
     "traceback": [
      "\u001B[0;31m---------------------------------------------------------------------------\u001B[0m",
      "\u001B[0;31mNameError\u001B[0m                                 Traceback (most recent call last)",
      "Cell \u001B[0;32mIn[2], line 1\u001B[0m\n\u001B[0;32m----> 1\u001B[0m book \u001B[38;5;241m=\u001B[39m \u001B[43mBookFactory\u001B[49m()\n\u001B[1;32m      2\u001B[0m ledger \u001B[38;5;241m=\u001B[39m book\u001B[38;5;241m.\u001B[39mget_default_ledger()\n\u001B[1;32m      3\u001B[0m invoice \u001B[38;5;241m=\u001B[39m Invoice\u001B[38;5;241m.\u001B[39mobjects\u001B[38;5;241m.\u001B[39mget_or_create(\n\u001B[1;32m      4\u001B[0m     invoice_number \u001B[38;5;241m=\u001B[39m \u001B[38;5;124m\"\u001B[39m\u001B[38;5;124mMYINV-93432\u001B[39m\u001B[38;5;124m\"\u001B[39m,\n\u001B[1;32m      5\u001B[0m     ledger \u001B[38;5;241m=\u001B[39m ledger,\n\u001B[0;32m   (...)\u001B[0m\n\u001B[1;32m     10\u001B[0m     }\n\u001B[1;32m     11\u001B[0m )\n",
      "\u001B[0;31mNameError\u001B[0m: name 'BookFactory' is not defined"
     ]
    }
   ],
   "source": [
    "book = BookFactory()\n",
    "ledger = book.get_default_ledger()\n",
    "invoice = Invoice.objects.get_or_create(\n",
    "    invoice_number = \"MYINV-93432\",\n",
    "    ledger = ledger,\n",
    "    tax_inclusive = TaxInclusive.EXCLUSIVE,\n",
    "    description = \"something here\",\n",
    "    defaults = {\n",
    "        \"contact\": ContactFactory.customer(book=ledger.book),\n",
    "    }\n",
    ")\n",
    "invoice.save()"
   ]
  },
  {
   "cell_type": "code",
   "execution_count": 3,
   "id": "d32063c7-5048-4b02-a3bb-b4fc2bd161d1",
   "metadata": {},
   "outputs": [
    {
     "ename": "NameError",
     "evalue": "name 'inspect' is not defined",
     "output_type": "error",
     "traceback": [
      "\u001B[0;31m---------------------------------------------------------------------------\u001B[0m",
      "\u001B[0;31mNameError\u001B[0m                                 Traceback (most recent call last)",
      "Cell \u001B[0;32mIn[3], line 1\u001B[0m\n\u001B[0;32m----> 1\u001B[0m \u001B[43minspect\u001B[49m(invoice)\n",
      "\u001B[0;31mNameError\u001B[0m: name 'inspect' is not defined"
     ]
    }
   ],
   "source": [
    "inspect(invoice)"
   ]
  },
  {
   "cell_type": "code",
   "execution_count": null,
   "id": "211a26bd-9529-479a-ac55-533520af8332",
   "metadata": {},
   "outputs": [],
   "source": []
  }
 ],
 "metadata": {
  "kernelspec": {
   "display_name": "Django Shell-Plus",
   "language": "python",
   "name": "django_extensions"
  },
  "language_info": {
   "codemirror_mode": {
    "name": "ipython",
    "version": 3
   },
   "file_extension": ".py",
   "mimetype": "text/x-python",
   "name": "python",
   "nbconvert_exporter": "python",
   "pygments_lexer": "ipython3",
   "version": "3.12.6"
  }
 },
 "nbformat": 4,
 "nbformat_minor": 5
}
